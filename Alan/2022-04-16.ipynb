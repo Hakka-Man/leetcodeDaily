{
 "cells": [
  {
   "cell_type": "code",
   "execution_count": 2,
   "metadata": {},
   "outputs": [],
   "source": [
    "from typing import List\n",
    "class Solution:\n",
    "    def removeDuplicates(self, nums: List[int]) -> int:\n",
    "        index = 1\n",
    "        now = nums[0]\n",
    "        for num in nums:\n",
    "            if num != now:\n",
    "                now = num\n",
    "                nums[index] = now\n",
    "                index += 1\n",
    "        return index"
   ]
  },
  {
   "cell_type": "code",
   "execution_count": 3,
   "metadata": {},
   "outputs": [],
   "source": [
    "class Solution:\n",
    "    def maxProfit(self, prices: List[int]) -> int:\n",
    "        profit = 0\n",
    "        hold = prices[0]\n",
    "        for price in prices:\n",
    "            if price > hold:\n",
    "                profit += price - hold\n",
    "                hold = price\n",
    "            else:\n",
    "                hold = price\n",
    "        return profit"
   ]
  },
  {
   "cell_type": "code",
   "execution_count": 4,
   "metadata": {},
   "outputs": [],
   "source": [
    "class Solution:\n",
    "    def rotate(self, nums: List[int], k: int) -> None:\n",
    "        \"\"\"\n",
    "        Do not return anything, modify nums in-place instead.\n",
    "        \"\"\"\n",
    "        if k == 0:\n",
    "            return\n",
    "        length = len(nums)\n",
    "        time = gcd(length,k)\n",
    "        for i in range(time):\n",
    "            new = (k+i)%length\n",
    "            tempOld = nums[new]\n",
    "            tempNew = 0\n",
    "            nums[new] = nums[i]\n",
    "            while new != i:\n",
    "                new = (new+k)%length\n",
    "                tempNew = nums[new]\n",
    "                nums[new] = tempOld\n",
    "                tempOld = tempNew\n",
    "        \n",
    "            \n",
    "                        \n",
    "        "
   ]
  }
 ],
 "metadata": {
  "interpreter": {
   "hash": "b0fa6594d8f4cbf19f97940f81e996739fb7646882a419484c72d19e05852a7e"
  },
  "kernelspec": {
   "display_name": "Python 3.9.7 64-bit",
   "language": "python",
   "name": "python3"
  },
  "language_info": {
   "codemirror_mode": {
    "name": "ipython",
    "version": 3
   },
   "file_extension": ".py",
   "mimetype": "text/x-python",
   "name": "python",
   "nbconvert_exporter": "python",
   "pygments_lexer": "ipython3",
   "version": "3.9.7"
  },
  "orig_nbformat": 4
 },
 "nbformat": 4,
 "nbformat_minor": 2
}
